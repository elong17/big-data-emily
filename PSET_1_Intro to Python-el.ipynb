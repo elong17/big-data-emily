{
 "cells": [
  {
   "cell_type": "markdown",
   "metadata": {},
   "source": [
    "# Problem Set 1: Intro to Python\n",
    "This problem set is meant to create a good foundation of programming. We emphasize code readability and reusability over performance. Code performance can be measured in many different ways, and is by no means the focus of this course, however, we expect your code to be non-repetitive, clean, and efficient enough to deal with medium-to-large datasets. As we move forward with the course, you will be introduced to some functional programming techniques, iterators, and objects that will help speed-up the data munging of the type of data sets that we will be dealing with. \n",
    "\n",
    "`Throughout the course you will be using multiple online resources to help you solve the assignments, we do too. However, if you are using other people’s code, make sure to credit the source, and come up with your own implementation. In this problem set, you are welcome to refer to online resources and documentation. One of the primary ones you will find you use is:` [Stack Overflow]( http://stackoverflow.com/)."
   ]
  },
  {
   "cell_type": "markdown",
   "metadata": {},
   "source": [
    "## 1. Lists\n",
    "Do the following:\n",
    "1. Create a list containing any 4 strings.\n",
    "2. Print the 3rd item in the list\n",
    "3. Print the 1st and 2nd item in the list using [:] index slicing.\n",
    "4. Add a new string with text “last” to the end of the list and print the list.\n",
    "5. Get the list length and print it.\n",
    "6. Replace the last item in the list with the string “new” and print\n"
   ]
  },
  {
   "cell_type": "code",
   "execution_count": 4,
   "metadata": {
    "collapsed": false
   },
   "outputs": [
    {
     "name": "stdout",
     "output_type": "stream",
     "text": [
      "3rd item on mylist is 980\n",
      "1st and 2nd item on mylist is ['4dg']\n",
      "mylist: ['4dg', 'bagels', '980', 'BOB', 'last']\n",
      "length of mylist= 5\n",
      "mylist: ['4dg', 'bagels', '980', 'BOB', 'new']\n"
     ]
    }
   ],
   "source": [
    "#Create a list containing any 4 strings.\n",
    "mylist = [\"4dg\", \"bagels\", \"980\", \"BOB\"]\n",
    "\n",
    "# Print the 3rd item in the list\n",
    "print(\"3rd item on mylist is\", mylist[2])\n",
    "\n",
    "# Print the 1st and 2nd item in the list using [:] index slicing.\n",
    "print(\"1st and 2nd item on mylist is\", mylist[0:1])\n",
    "\n",
    "# Add a new string with text “last” to the end of the list and print the list.\n",
    "mylist.append(\"last\")\n",
    "print(\"mylist:\", mylist)\n",
    "\n",
    "# Get the list length and print it.\n",
    "print(\"length of mylist =\", len(mylist))\n",
    "\n",
    "# Replace the last item in the list with the string “new” and print\n",
    "mylist[4]= \"new\"\n",
    "print(\"mylist:\", mylist)\n",
    "\n"
   ]
  },
  {
   "cell_type": "markdown",
   "metadata": {},
   "source": [
    "## 2. Strings \n",
    "Given the following list of words:\n",
    "```Python\n",
    "list1=['I', 'am', 'learning','Python','to','munge','large','datasets','and','visualize','them']\n",
    "```\n",
    "1. Convert the list into a normal sentence with [`join()`](https://docs.python.org/2/library/stdtypes.html#str.join), then print.\n",
    "2. [**Reverse**](https://docs.python.org/release/2.3.5/whatsnew/section-slices.html) the order of this list `[“them”,”visualize”,…]`\n",
    "3. Now [**sort**](https://docs.python.org/2/library/functions.html#sorted) the list using the default sort order in python\n",
    "4. Modify the sort to do a case [**insensitive**](http://matthiaseisen.com/pp/patterns/p0005/) alphabetic sort\n",
    "5. Now print the list in reverse alphabetic sort order\n"
   ]
  },
  {
   "cell_type": "code",
   "execution_count": 15,
   "metadata": {
    "collapsed": false
   },
   "outputs": [
    {
     "name": "stdout",
     "output_type": "stream",
     "text": [
      "list1 as a sentence: I am learning Python to munge large datasets and visualize them\n",
      "The reverse order of list1 is: ['them', 'visualize', 'and', 'datasets', 'large', 'munge', 'to', 'Python', 'learning', 'am', 'I']\n",
      "python default sort of list1: ['I', 'Python', 'am', 'and', 'datasets', 'large', 'learning', 'munge', 'them', 'to', 'visualize']\n",
      "sort of list1 ignoring case: ['am', 'and', 'datasets', 'I', 'large', 'learning', 'munge', 'Python', 'them', 'to', 'visualize']\n",
      "reverse alphabetical sort of list1: ['visualize', 'to', 'them', 'Python', 'munge', 'learning', 'large', 'I', 'datasets', 'and', 'am']\n"
     ]
    }
   ],
   "source": [
    "# Convert the list into a normal sentence with join(), then print.\n",
    "list1=['I', 'am', 'learning','Python','to','munge','large','datasets','and','visualize','them']\n",
    "a=\" \".join(list1)\n",
    "print(\"list1 as a sentence:\", a)\n",
    "\n",
    "# Reverse the order of this list [“them”,”visualize”,…]\n",
    "b=list1[::-1]\n",
    "print(\"The reverse order of list1 is:\", b)\n",
    "\n",
    "# Now sort the list using the default sort order in python\n",
    "list1.sort()\n",
    "print(\"python default sort of list1:\", list1)\n",
    "\n",
    "# Modify the sort to do a case insensitive alphabetic sort\n",
    "list1.sort(key=str.lower)\n",
    "print(\"sort of list1 ignoring case:\", list1)\n",
    "\n",
    "# Now print the list in reverse alphabetic sort order\n",
    "list1.sort(key=str.lower, reverse=True)\n",
    "print(\"reverse alphabetical sort of list1:\", list1)"
   ]
  },
  {
   "cell_type": "markdown",
   "metadata": {},
   "source": [
    "## 3. Random Function\n",
    "Here is a python snippet for generating a random integer:\n",
    "\n",
    "```Python\n",
    "import random\n",
    "# this returns random integer: 100 <= number <= 1000 \n",
    "num = random.randint(100, 1000)\n",
    "```\n",
    "\n",
    "* Implement your own random function that builds on this python function, returning an integer between a low and a high number supplied by the user, but that can be called with the low number optional (default to 0).\n",
    "\n",
    "* Test your function by adding the following 2 assert statements to your file (replace myrandom and low with the names you used). The [`assert`](https://docs.python.org/2/reference/simple_stmts.html#assert) statement helps you debug, by testing if a statement is true. \n",
    "\n",
    "```Python\n",
    "assert(0 <= myrandom(100) <= 100)\n",
    "assert(50 <= myrandom(100,low=50) <= 100)\n",
    "```\n",
    "\n",
    "\n",
    "1. Inputs: \n",
    "  1. Two `integers` that will be used as lower and upper bounds of the function. \n",
    "2. Outputs: \n",
    "  1. A random number within the established bounds. "
   ]
  },
  {
   "cell_type": "code",
   "execution_count": 2,
   "metadata": {
    "collapsed": false
   },
   "outputs": [
    {
     "name": "stdout",
     "output_type": "stream",
     "text": [
      "6\n"
     ]
    }
   ],
   "source": [
    "import random\n",
    "def myrandom(high, low=0):\n",
    "    '''\n",
    "    Builds on randint, generates a random integer \n",
    "    between a low and a high number defined by user. If user \n",
    "    supplies only one parameter, that will be the high number,\n",
    "    low number defaults to 0.\n",
    "    '''\n",
    "    return random.randint(low,high)\n",
    "\n",
    "assert(0 <= myrandom(100) <= 100)\n",
    "assert(50 <= myrandom(100,low=50) <= 100)\n",
    "\n",
    "print(myrandom(9))"
   ]
  },
  {
   "cell_type": "markdown",
   "metadata": {},
   "source": [
    "## 4. String Formatting Function \n",
    "Write a function that expects 2 inputs from the command line. The first is a title that may be multiple words, the second is a number. Given these inputs print the following string (replacing N and Title with the dynamic values passed in to the script each time it runs).\n",
    "\n",
    "`The number N bestseller today is: Title` \n",
    "\n",
    "* If not already title-cased, the function should **title-case** the string. \n",
    "* Build one function making the first input optional (keeping the 2nd required).\n",
    "* Build another function making the second input optional (keeping the 1st required).\n",
    "* Build a third function making both inputs optional.\n"
   ]
  },
  {
   "cell_type": "code",
   "execution_count": 1,
   "metadata": {
    "collapsed": false
   },
   "outputs": [],
   "source": [
    "def nReq():\n",
    "    Title = (input(\"Enter a booktitle:\"))    \n",
    "    \n",
    "    while True:\n",
    "        try:\n",
    "            N = int(input(\"Enter a number:\"))\n",
    "        except ValueError:\n",
    "            print(\"You must enter a number.\")\n",
    "            continue\n",
    "        else:\n",
    "            break\n",
    "\n",
    "    print ('The number ' + str(N)+ ' bestseller today is: ' + str(Title.title()))\n",
    "    \n",
    "def titleReq():\n",
    "    while True:\n",
    "        Title = str(input(\"Enter a title:\"))\n",
    "        if Title == '':\n",
    "            print(\"You must enter a title.\")\n",
    "            continue\n",
    "        else:\n",
    "            break\n",
    "    \n",
    "    N = (input(\"Enter a number:\"))\n",
    "    \n",
    "    print ('The number ' + str(N)+ ' bestseller today is: ' + str(Title.title()))\n",
    "\n",
    "def allOpt():\n",
    "    Title = (input(\"Enter a booktitle:\"))  \n",
    "    N = (input(\"Enter a number:\"))\n",
    "    print ('The number ' + str(N)+ ' bestseller today is: ' + str(Title.title()))\n"
   ]
  },
  {
   "cell_type": "code",
   "execution_count": 7,
   "metadata": {
    "collapsed": false
   },
   "outputs": [
    {
     "name": "stdout",
     "output_type": "stream",
     "text": [
      "Enter a booktitle:\n",
      "Enter a number:\n",
      "You must enter a number.\n",
      "Enter a number:8\n",
      "The number 8 bestseller today is: \n"
     ]
    }
   ],
   "source": [
    "nReq()"
   ]
  },
  {
   "cell_type": "code",
   "execution_count": 6,
   "metadata": {
    "collapsed": false
   },
   "outputs": [
    {
     "name": "stdout",
     "output_type": "stream",
     "text": [
      "Enter a title:\n",
      "You must enter a title.\n",
      "Enter a title:Ducks\n",
      "Enter a number:\n",
      "The number  bestseller today is: Ducks\n"
     ]
    }
   ],
   "source": [
    "titleReq()"
   ]
  },
  {
   "cell_type": "code",
   "execution_count": 5,
   "metadata": {
    "collapsed": false
   },
   "outputs": [
    {
     "name": "stdout",
     "output_type": "stream",
     "text": [
      "Enter a booktitle:\n",
      "Enter a number:\n",
      "The number  bestseller today is: \n"
     ]
    }
   ],
   "source": [
    "allOpt()"
   ]
  },
  {
   "cell_type": "markdown",
   "metadata": {},
   "source": [
    "# 5. Password Validation Function \n",
    "Write a password validation function. Ask the user to input a password that meets the criteria listed below. You can either use the **Python** [`input`](https://docs.python.org/3/library/functions.html#input) built-in function, or just pass the password as a function argument. Validate that the user’s password matches this criteria. After 3 bad tries, quit with an error message. If password is valid, print a helpful success message.\n",
    "\n",
    "* password length must be 8-14 characters\n",
    "* password must contain at least 2 digits\n",
    "* password must contain at least 1 uppercase letter\n",
    "* password must contain at least 1 special character from this set !@#$%^&*()-_+=\n",
    "\n",
    "\n",
    "\n",
    "1. Inputs: \n",
    "  1. A `string` that will be tested for the password requirements. The string can be passed as an argument to the function, or as an input through the `input` function.\n",
    "2. Outputs: \n",
    "  1. A **success** message if the password works, otherwise an **error** message. \n"
   ]
  },
  {
   "cell_type": "code",
   "execution_count": 1,
   "metadata": {
    "collapsed": false
   },
   "outputs": [
    {
     "name": "stdout",
     "output_type": "stream",
     "text": [
      "Enter a new password.\n",
      " Your password must meet the following criteria:.\n",
      " Contain at least 2 numbers.\n",
      " Contain at least 1 uppercase letter.\n",
      " Contain at least 1 special character from the following: !@#$%^&*()-_+= \n",
      "\n",
      "hello\n",
      "**ERROR** Please make sure your password meets the criteria.\n",
      "You have 2 attempts remaining.\n",
      "Enter a new password.\n",
      " Your password must meet the following criteria:.\n",
      " Contain at least 2 numbers.\n",
      " Contain at least 1 uppercase letter.\n",
      " Contain at least 1 special character from the following: !@#$%^&*()-_+= \n",
      "\n",
      "HelloAgain\n",
      "**ERROR** Please make sure your password meets the criteria.\n",
      "You have 1 attempts remaining.\n",
      "Enter a new password.\n",
      " Your password must meet the following criteria:.\n",
      " Contain at least 2 numbers.\n",
      " Contain at least 1 uppercase letter.\n",
      " Contain at least 1 special character from the following: !@#$%^&*()-_+= \n",
      "\n",
      "HelloDog!87\n",
      "**SUCCESS** Your new password has been saved.\n"
     ]
    }
   ],
   "source": [
    "def inputPW():\n",
    "    '''\n",
    "    Asks for user input. \n",
    "    Returns user submitted password\n",
    "    '''\n",
    "    print (\"Enter a new password.\\n Your password must meet the following criteria:\\n Contain at least 2 numbers.\\n Contain at least 1 uppercase letter.\\n Contain at least 1 special character from the following: !@#$%^&*()-_+= \\n\") #prompt for input\n",
    "    yourPW = str(input()) #asks for password, stores as string\n",
    "    return yourPW #returns submitted password\n",
    "\n",
    "def verifyPW(x):\n",
    "    '''\n",
    "    checks pw against criteria.\n",
    "    Returns True if meets all criteria.\n",
    "    False otherwise.\n",
    "    '''\n",
    "    digit = 0  #initiate counter for numbers\n",
    "    upper = 0   #initiate counter for uppercase letters\n",
    "    char = \"!@#$%^&*()-_+=\" #charset in criteria\n",
    "    charN = 0   #initiate counter for special characters\n",
    "    if len(x) >= 8 and len(x) <= 14: #if the password is the correct length,\n",
    "        for i in x: #for ea. character in the password\n",
    "            if i.isnumeric(): #if it is a number,\n",
    "                digit+=1 #add to number counter\n",
    "            if i in char: # if it is a special character\n",
    "                charN +=1 #add to special character counter\n",
    "            if i.isupper(): #if it is a uppercase letter\n",
    "                upper+=1 #add to uppercase counter\n",
    "        if digit >= 2 and charN >=1 and upper >=1: #if all criteria are met\n",
    "            return True #return True\n",
    "        else:\n",
    "            return False #otherwise return False\n",
    "            \n",
    "def newPW(attempts=3):\n",
    "    '''\n",
    "    Gives feedback as to whether user enters valid pw. \n",
    "    Takes one argument, attempts, the # of attempts a \n",
    "    user is given to submit a valid password.  \n",
    "    '''\n",
    "    while attempts > 0: #if user has attempts remaining,\n",
    "        PW = inputPW()  #prompts user to enter new password\n",
    "        if verifyPW(PW):  #if PW meets criteria,\n",
    "            print (\"**SUCCESS** Your new password has been saved.\") #print success msg\n",
    "            break #break out of loop\n",
    "        else:\n",
    "            attempts -=1 #otherwise, deduct an attempt\n",
    "            print (\"**ERROR** Please make sure your password meets the criteria.\") #print error message\n",
    "            print (\"You have\", attempts, \"attempts remaining.\") #let user know # of tries remaining\n",
    "            continue #continue with loop\n",
    "    else: #if out of attempts,\n",
    "        print (\"Sorry. You have run out of attempts\") #let user know, they have run out of attempts\n",
    "\n",
    "\n",
    "newPW()"
   ]
  },
  {
   "cell_type": "markdown",
   "metadata": {},
   "source": [
    "## 6. Exponentiation Function\n",
    "Create a function called **exp** that asks for two digits and then prints an exponentiation, without using the exponentiation operator (`**`). You may assume these are positive integers. Use at least one custom-defined function.\n",
    "\n",
    "For example, some outputs of this function could be:\n",
    "* 2 , 3 => 8\n",
    "* 5 , 4 => 625\n",
    "\n",
    "1. Inputs: \n",
    "  1. An `integer` that will be recursively multiplied\n",
    "  2. An `integer` that will define the number of times to multiply the number to get the exponentiation.\n",
    "2. Outputs: \n",
    "  1. An `integer` that is the result of the exponentiation. \n",
    "\n",
    "`Hint: You can recursively multiply a number. The second number defines the number of times the recursive loop happens. Every time the loop happens, you can redefine the variable that gets multiplied.` "
   ]
  },
  {
   "cell_type": "code",
   "execution_count": 3,
   "metadata": {
    "collapsed": false
   },
   "outputs": [
    {
     "name": "stdout",
     "output_type": "stream",
     "text": [
      "8\n",
      "625\n"
     ]
    }
   ],
   "source": [
    "def exp(x, y):\n",
    "    '''\n",
    "    Function that calculates the exponent. \n",
    "    x is the base, y is the exponent. \n",
    "    Returns the result of the exponentiation.\n",
    "    '''\n",
    "    total = 1 #initiate variable, total\n",
    "    for i in range(y): # loop through y times\n",
    "        total*=x # multiply x by itself, \n",
    "    return total #returns the product\n",
    "    \n",
    "print(exp(2, 3))\n",
    "print(exp(5, 4))"
   ]
  },
  {
   "cell_type": "markdown",
   "metadata": {},
   "source": [
    "## 7. Min and Max Functions (Bonus)\n",
    "\n",
    "EXTRA CREDIT\n",
    "\n",
    "Write your own versions of the Python built-in functions **min** and **max**. They should take a list as an argument and return the minimum or maximum element. Assume lists contain numeric items only. \n",
    "\n",
    "1. Inputs: \n",
    "  1. A `list` of `numbers` to be tested. \n",
    "2. Outputs: \n",
    "  1. A `number` of the list that is the maximum or minimum. \n",
    "\n",
    "`Hint: Pick the first element as the minimum(maximum) and then loop through the elements to find a smaller(larger) element. Each time you find a smaller (larger) element, update your minimum (maximum).`"
   ]
  },
  {
   "cell_type": "code",
   "execution_count": null,
   "metadata": {
    "collapsed": false
   },
   "outputs": [],
   "source": [
    "def mymin(L):\n",
    "    '''\n",
    "    Takes one argument: L, list of numbers, and\n",
    "    returns the lowest number in the list.\n",
    "    '''\n",
    "    temp = 0     #to store lowest element found\n",
    "    for i in range(len(L)-1): #check every element\n",
    "        if L[i]<L[i+1]: #if an element is smaller than the next element,\n",
    "            temp = L[i] #store it as the lowest\n",
    "        else: \n",
    "            temp = L[i+1] #otherwise store the next element\n",
    "    return temp \n",
    "    \n",
    "def mymax(L):\n",
    "    '''\n",
    "    Takes one argument: L, list of numbers, and\n",
    "    returns the highest number in the list.\n",
    "    '''\n",
    "    temp = 0    #temp to store highest element found\n",
    "    for i in range(len(L)-1): #check every element\n",
    "        if L[i]>L[i+1]: #if an element is larger than the next element,\n",
    "            temp = L[i] #store it as the highest\n",
    "        else:\n",
    "            temp = L[i+1] #otherwise store the next element\n",
    "    return temp\n",
    "\n",
    "M = [0.1, 9.0, -89]\n",
    "N = [10000000, 9.099, 9.199, -89000000]\n",
    "\n",
    "print (\"min of M:\", mymin(M),\".\", \"max of M:\", mymax(M))\n",
    "print (\"min of N:\", mymin(N),\".\", \"max of N:\", mymax(N))"
   ]
  },
  {
   "cell_type": "markdown",
   "metadata": {},
   "source": [
    "## 8. Hangman Game (Bonus)\n",
    "\n",
    "EXTRA CREDIT\n",
    "\n",
    "Implement a basic hangman game through functions.\n",
    "* Show a user the word or phrase (5-15 letters) that they have to guess with dashes as placeholders for unsolved letters. You can hardcode this word into your source.\n",
    "* Prompt the user to guess a letter or solve the puzzle through the user [`input`](https://docs.python.org/2/library/functions.html#input) function. They get up to 8 guesses. After each guess, show the word with any instances of correctly guessed letters filled in. Show the number of tries left. Handle possible issues with user input in a consistent way.\n",
    "* Continue to prompt the user until either they’ve used up their 8 guesses or solved.\n",
    "* If they solve the puzzle in time, show the completed word and a congratulatory message.\n",
    "* If they fail to solve the puzzle, show the completed word and a Game Over message.\n",
    "\n",
    "\n",
    "Here’s a sample transcript.\n",
    "> You have 8 guesses to solve this word. \n",
    "\n",
    ">------------------------------------------   \n",
    "\n",
    ">guess a letter or solve: b \n",
    "\n",
    ">b--b--b--  (7 tries left) \n",
    "\n",
    ">guess a letter or solve: x \n",
    "\n",
    ">b--b--b--  (6 tries left) \n",
    "\n",
    ">guess a letter or solve: e \n",
    "\n",
    ">b--b-ebee  (5 tries left) \n",
    "\n",
    ">guess a letter or solve: bumblebee \n",
    "\n",
    ">bumblebee  (4 tries left) \n",
    "\n",
    ">Congratulations, you won!\n",
    "\n",
    "1. Inputs: \n",
    "  1. A `string` that will be tested to see whether or not it is part of the secret word. \n",
    "2. Outputs: \n",
    "  1. A message that shows the user the number of guessed letters at the time.\n",
    "  2. A **success** message if the user wins, otherwise a **try again** message. \n"
   ]
  },
  {
   "cell_type": "code",
   "execution_count": null,
   "metadata": {
    "collapsed": true
   },
   "outputs": [],
   "source": []
  }
 ],
 "metadata": {
  "anaconda-cloud": {},
  "kernelspec": {
   "display_name": "Python [Root]",
   "language": "python",
   "name": "Python [Root]"
  },
  "language_info": {
   "codemirror_mode": {
    "name": "ipython",
    "version": 3
   },
   "file_extension": ".py",
   "mimetype": "text/x-python",
   "name": "python",
   "nbconvert_exporter": "python",
   "pygments_lexer": "ipython3",
   "version": "3.5.2"
  }
 },
 "nbformat": 4,
 "nbformat_minor": 0
}
