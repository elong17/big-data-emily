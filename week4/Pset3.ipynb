{
 "cells": [
  {
   "cell_type": "markdown",
   "metadata": {
    "collapsed": true
   },
   "source": [
    "# Pset 3: What are twitter users in a 25mile radius around Boston tweeting about on Monday, March 7, 2017? \n",
    "\n",
    "In this exercise, I will scrape data from the Twitter using the Twitter REST API and the python library, Twython. "
   ]
  },
  {
   "cell_type": "code",
   "execution_count": 1,
   "metadata": {
    "collapsed": true
   },
   "outputs": [],
   "source": [
    "# Import libraries\n",
    "import json\n",
    "import time\n",
    "import threading\n",
    "from datetime import datetime\n",
    "from twython import Twython\n",
    "\n",
    "# Imports the keys from the python file\n",
    "# Keys saved locally \n",
    "import sys \n",
    "import os\n",
    "sys.path.append(os.path.abspath(\"/Users/Emily/Documents/github/\"))\n",
    "\n",
    "from twitter_key import api_key, api_secret"
   ]
  },
  {
   "cell_type": "code",
   "execution_count": 2,
   "metadata": {
    "collapsed": true
   },
   "outputs": [],
   "source": [
    "# Assigns the keys to the variables\n",
    "APP_KEY = api_key\n",
    "APP_SECRET = api_secret\n",
    "\n",
    "# Create a Twython object called Twitter\n",
    "# Set this up using your Twitter Keys\n",
    "# Say we are going to use OAuth 2\n",
    "twython_setup = Twython(APP_KEY, APP_SECRET, oauth_version=2)\n",
    "\n",
    "# Get an OAuth2 access token, save as variable so we can launch our \n",
    "OAUTH2_ACCESS_TOKEN = twython_setup.obtain_access_token()\n",
    "\n",
    "# Create a Twython Object we will use for our access to the API\n",
    "my_twython = Twython(APP_KEY, access_token=OAUTH2_ACCESS_TOKEN)"
   ]
  },
  {
   "cell_type": "code",
   "execution_count": null,
   "metadata": {
    "collapsed": false
   },
   "outputs": [],
   "source": [
    "# Input the search term you want to search on\n",
    "search_term='' # SET A SEARCH TERM LIKE 'TRUMP'\n",
    "# CAN LEAVE search_term BLANK IF YOU WANT ALL TWEETS NEAR A SPECIFIC LOCATION\n",
    "# Setup a Lat Lon\n",
    "latlong=[42.354072, -71.065815] # Downtown Boston (Boston Common)\n",
    "# Setup a search distance\n",
    "distance='25mi'\n",
    "# Set result type (can be 'recent', 'popular', or 'mixed')\n",
    "type_of_result='recent'\n",
    "# Set number of results (up to 100, remember you can only get 450 in 15 minutes)\n",
    "number_of_tweets=30\n",
    "\n",
    "\n",
    "# Fetches tweets with a given query at a given lat-long.\n",
    "def get_tweets_by_location( latlong=None ):\n",
    "    # Uses the search function to hit the APIs endpoints and look for recent tweets within the area\n",
    "    results = my_twython.search(q=search_term, geocode=str(latlong[0])+','+str(latlong[1])+','+ distance, result_type=type_of_result, count=number_of_tweets)\n",
    "    # Returns the only the statuses from the resulting JSON\n",
    "    return results['statuses']\n",
    "\n",
    "# test run our function\n",
    "# get_tweets_by_location(latlong)"
   ]
  },
  {
   "cell_type": "code",
   "execution_count": null,
   "metadata": {
    "collapsed": true
   },
   "outputs": [],
   "source": [
    "# repeatedly executes get_tweets_by_location\n",
    "def get_lots_of_tweets( latlong ):\n",
    "    # Create a dictionary to parse the JSON\n",
    "    all_tweets = {}\n",
    "    \n",
    "    # We will be hitting the API a number of times within the total time\n",
    "    total_time = 1800\n",
    "    \n",
    "    # Everytime we hit the API we subtract time from the total\n",
    "    remaining_seconds = total_time\n",
    "    interval = 60\n",
    "    while remaining_seconds > 0: # loop and run the function while remaining seconds is greater than zero\n",
    "        added = 0\n",
    "        # Hit the Twitter API using our function\n",
    "        new_tweets = get_tweets_by_location(latlong) # we set latlong above!\n",
    "        # Parse the resulting JSON, and save the rest of the raw content\n",
    "        for tweet in new_tweets:\n",
    "            tid = tweet['id']\n",
    "            if tid not in all_tweets:\n",
    "                properties = {}\n",
    "                if tweet['coordinates'] != None:\n",
    "                    properties['lat'] = tweet['coordinates']['coordinates'][0]\n",
    "                    properties['lon'] = tweet['coordinates']['coordinates'][1]\n",
    "                else:\n",
    "                    properties['lat'] = None\n",
    "                    properties['lon'] = None\n",
    "                properties['location'] = tweet['user']['location'] #This will get us the location associated with the profile\n",
    "                properties['tweet_id'] = tid\n",
    "                properties['content'] = tweet['text']\n",
    "                properties['user'] = tweet['user']['id']\n",
    "                properties['raw_source'] = tweet\n",
    "                properties['data_point'] = 'none'\n",
    "                properties['time'] = tweet['created_at']\n",
    "                all_tweets[ tid ] = properties\n",
    "                added += 1\n",
    "        print(\"At %d seconds, added %d new tweets, for a total of %d\" % ( total_time - remaining_seconds, added, len( all_tweets )))\n",
    "        # We wait a few seconds and hit the API again\n",
    "        time.sleep(interval)\n",
    "        remaining_seconds -= interval\n",
    "    print(str(len(all_tweets)) + ' Tweets retrieved.')\n",
    "    # We return the final dictionary to work with in Python\n",
    "    return all_tweets"
   ]
  },
  {
   "cell_type": "code",
   "execution_count": null,
   "metadata": {
    "collapsed": false
   },
   "outputs": [],
   "source": [
    "# This function executes the the functions over a given period of time\n",
    "def run_all():\n",
    "    # This is the number of times the code will be executed. In this case, just once. \n",
    "    starting = 1\n",
    "    while starting > 0:\n",
    "        # Sometimes the API returns some errors, killing the whole script, so we setup try/except to make sure it keeps running\n",
    "        try:\n",
    "            t = get_lots_of_tweets( latlong )\n",
    "            # We name every file with the current time\n",
    "            timestr = time.strftime(\"%Y%m%d-%H%M%S\")\n",
    "            # We write a new JSON into the target path\n",
    "            with open( 'data/' + '%stweets.json' %(timestr), 'w' ) as f:\n",
    "                f.write(json.dumps(t))\n",
    "            # we can use a library like threading to execute the run function continuously.\n",
    "            #threading.Timer(10, run).start()\n",
    "            starting -= 1\n",
    "        except:\n",
    "            pass\n",
    "    \n",
    "run_all()"
   ]
  },
  {
   "cell_type": "markdown",
   "metadata": {},
   "source": [
    "# PART II: Explore the data"
   ]
  },
  {
   "cell_type": "code",
   "execution_count": 3,
   "metadata": {
    "collapsed": true
   },
   "outputs": [],
   "source": [
    "# Import some additional libraries that will allow us to plot and interact with the operating system\n",
    "from os import listdir\n",
    "from os.path import isfile, join\n",
    "import numpy as np\n",
    "import pandas as pd\n",
    "import matplotlib.pyplot as plt\n",
    "%matplotlib inline"
   ]
  },
  {
   "cell_type": "code",
   "execution_count": 4,
   "metadata": {
    "collapsed": false
   },
   "outputs": [],
   "source": [
    "# Get the file names from a given directory\n",
    "file_dir = \"data\" # Set this to where your JSON saved\n",
    "# Get only the JSONs we have saved\n",
    "onlyfiles = [ f for f in listdir(file_dir) if isfile(join(file_dir,f)) and not f.startswith('.')]\n",
    "\n",
    "# create an empty dataframe with columns for each property\n",
    "df_tweets = pd.DataFrame(columns = ['tweet_id', 'lat', 'lon', 'content','location','user','raw_source','data_point','time'])\n",
    "\n",
    "# Loop through all the files\n",
    "for file in onlyfiles:\n",
    "    full_dir = join(file_dir,file) \n",
    "    with open(full_dir) as json_data:\n",
    "        dict = json.load(json_data) # creates a Python dictionary of our json\n",
    "        if not isinstance(dict, list):\n",
    "            for key, val in dict.items():\n",
    "                df_tweets.loc[key,val] = val\n",
    "                "
   ]
  },
  {
   "cell_type": "code",
   "execution_count": 5,
   "metadata": {
    "collapsed": false
   },
   "outputs": [
    {
     "data": {
      "text/plain": [
       "(898, 9)"
      ]
     },
     "execution_count": 5,
     "metadata": {},
     "output_type": "execute_result"
    }
   ],
   "source": [
    "#See how many tweets we got\n",
    "df_tweets.shape"
   ]
  },
  {
   "cell_type": "code",
   "execution_count": 6,
   "metadata": {
    "collapsed": false
   },
   "outputs": [
    {
     "data": {
      "text/plain": [
       "tweet_id      object\n",
       "lat           object\n",
       "lon           object\n",
       "content       object\n",
       "location      object\n",
       "user          object\n",
       "raw_source    object\n",
       "data_point    object\n",
       "time          object\n",
       "dtype: object"
      ]
     },
     "execution_count": 6,
     "metadata": {},
     "output_type": "execute_result"
    }
   ],
   "source": [
    "#Check field names\n",
    "df_tweets.dtypes"
   ]
  },
  {
   "cell_type": "code",
   "execution_count": 14,
   "metadata": {
    "collapsed": false
   },
   "outputs": [
    {
     "data": {
      "text/html": [
       "<div>\n",
       "<table border=\"1\" class=\"dataframe\">\n",
       "  <thead>\n",
       "    <tr style=\"text-align: right;\">\n",
       "      <th></th>\n",
       "      <th>tweet_id</th>\n",
       "      <th>lat</th>\n",
       "      <th>lon</th>\n",
       "      <th>content</th>\n",
       "      <th>location</th>\n",
       "      <th>user</th>\n",
       "      <th>raw_source</th>\n",
       "      <th>data_point</th>\n",
       "      <th>time</th>\n",
       "    </tr>\n",
       "  </thead>\n",
       "  <tbody>\n",
       "  </tbody>\n",
       "</table>\n",
       "</div>"
      ],
      "text/plain": [
       "Empty DataFrame\n",
       "Columns: [tweet_id, lat, lon, content, location, user, raw_source, data_point, time]\n",
       "Index: []"
      ]
     },
     "execution_count": 14,
     "metadata": {},
     "output_type": "execute_result"
    }
   ],
   "source": [
    "df_tweets[df_tweets['tweet_id'].duplicated()]"
   ]
  },
  {
   "cell_type": "code",
   "execution_count": 7,
   "metadata": {
    "collapsed": false
   },
   "outputs": [
    {
     "data": {
      "text/plain": [
       "array(['Minding My Business', 'boston', '', 'Boston, MA', 'Wakefield, MA',\n",
       "       '480', 'Boston', '† 6º LU – 11º LS †', 'Charleston, SC',\n",
       "       'The Lone Star State', 'Boston MA', 'Cambridge, MA',\n",
       "       'Winchester, MA', 'Auburndale, MA', \"N 30°1' 0'' / W 90°16' 0''\",\n",
       "       'boston ', 'Salem, MA', 'ハーバード大学', 'Kolter Lab, Boston, MA',\n",
       "       'Spiece', 'Brookline, MA', 'Lawrence, MA', 'Norwood, MA',\n",
       "       'Louisiana, USA', 'Waltham, MA', 'Oregon, IL', 'Cape Coral, FL',\n",
       "       'Newton, MA', 'Follow Me pls ', 'just outside of Boston, MA',\n",
       "       'San Diego / D.C. / Tokyo', 'Braintree, MA', 'Winona, MN',\n",
       "       'somewhere cold', 'South Boston ➡️⬅️Gillette ', 'Plattsburgh, NY',\n",
       "       'Lowell', 'Grand Rapids, MI', 'New York, NY', 'Massachusetts, USA',\n",
       "       'Boston - MA', 'California', 'Tatooine, Hoth, CoffeeShops',\n",
       "       'Class of 2017  3 11 19 30 42 ', 'Somerville, MA',\n",
       "       'Boston Massachusetts', 'Chicago, IL', '佐世保鎮守府',\n",
       "       'East Bridgewater, MA', 'Global', 'Wakefield , MA',\n",
       "       'Subang Jaya, Selangor. ', 'Gurgaon', 'Norwood, Massachusetts',\n",
       "       'Counting my blessings', 'Bogotá, Colombia',\n",
       "       'I Block Trolls & Report Porn!', 'Lowell, MA', 'Palo Alto, CA',\n",
       "       'South Boston, MA', 'North Liberty, IA', 'Harvard Law School',\n",
       "       'Billerica, MA', 'Queens College ', 'Capital Wasteland',\n",
       "       'Littleton, Massachusetts', 'Quincy, MA', 'cambridge, ma',\n",
       "       'wingo city', 'Boston,Ma', 'California, USA', 'Chicago',\n",
       "       'worthless & irrelevant', 'traphouse', 'Florida, USA', 'Saugus Ma',\n",
       "       '日本の中心で愛を知る', 'Lothlorien', 'VA', 'The AdversAerie',\n",
       "       'Brockton, MA ', 'North Andover, MA', 'upstate new york', 'Nepal',\n",
       "       'United States', 'Hermosillo, Sonora', 'Foxborough Massachusetts ',\n",
       "       \"meaghan's\", 'Nj', 'Lowell, MA, USA', 'Harvard University',\n",
       "       'Boston, Ma.  USA', 'Weenie Hut General', '阪外露', 'Manhattan, NY',\n",
       "       '헤더_어화동동님 / 인장_굷님', ' suff | THE Sacred Heart U',\n",
       "       'Lowell, MA ✈️ Springhill, FL', 'Kota Makassar, SulSel',\n",
       "       'Houston, TX', 'North Haven, CT', 'Seattle, SFO ', 'Mansfield, MA',\n",
       "       'Kenya', '인장-뽂쟈', 'ÜT: 40.738941,-74.031116', 'land of oobis',\n",
       "       'Thomaston, CT', 'Tempe, AZ', 'east dedham',\n",
       "       'NYC // Hogwarts // Concerts', 'Buffalo, NY', 'Pembroke, MA', ' ',\n",
       "       'Bean-Town/Salem World', 'boston  ', 'unknown', 'Wisconsin, USA',\n",
       "       'Newton, MA 02461', '100 Legends Way Boston, MA', 'Boston, Ma.',\n",
       "       'Pfalz!', 'Dakor, India', 'Charlottesville, VA', '7 ELEVEN❤️',\n",
       "       'New Jersey, USA', 'Boston ', 'South Easton MA.', 'Portland, OR',\n",
       "       'Washington, DC', 'illadelph. too.wun.phive',\n",
       "       'FLA to MA Eventually', 'Morganville, TX',\n",
       "       'E. Bridgewater, MA/Boston, MA', 'Ho Chi Minh, Vietnam', 'Lynn, MA',\n",
       "       'EAST COAST', 'boston, ma', 'Iowa City, IA', 'Lowell ',\n",
       "       'Chelmsford, MA', 'New Brunswick, NJ', 'Chelsea, MA',\n",
       "       'Hiding in the bathroom', 'lynn', 'Westhampton, MA, USA',\n",
       "       ' ♒️ ATLien', 'Western Mass', 'Maine, New England,USA, Earth ',\n",
       "       'Woburn, MA', 'Boston Bruins', 'St. louis, MO',\n",
       "       'dadu sindh pakistan', 'New York', 'Oklahoma',\n",
       "       'Acton, United States', 'Manchester, NH', '道民',\n",
       "       'Tokyo, Japan & Los Angeles, CA', 'Marblehead, MA', 'Medford, MA',\n",
       "       'Woburn, MA by way of Attleboro', 'Somerville, Massachusetts',\n",
       "       'Foxboro, MA', 'lawrence, Ma', 'danvers', 'Virginia, USA',\n",
       "       'Samadhi', 'Springfield, MA', 'Natick, MA', 'Boston, USA',\n",
       "       'Bozeman, MT', 'Holbrook, MA', 'Hull,MA', 'Boston,MA', 'lowell',\n",
       "       'Boston Ma', 'Boston, Ma', 'wicked little town', 'Connecticut, USA',\n",
       "       'Boston, Massachusetts', 'Nae York City ', \"bitchin'\",\n",
       "       'Chapel Hill, NC', '[they pronouns] ', 'Providence, RI',\n",
       "       'Oxford, OH', 'Quincy', 'Alexandria, VA', 'Worldwide', 'Boston Ma ',\n",
       "       'Washington D.C.', 'Palencia, Spain', 'State College, PA',\n",
       "       'Pittsburgh, PA', 'nj', 'North of Boston, MA', ':^( ', 'JMU',\n",
       "       'Marlborough, MA', 'a parallel universe', 'Sacramento, CA',\n",
       "       'Medford', 'Melrose, MA', 'Gillette Stadium', 'Near Boston, MA',\n",
       "       'Greater Boston', '北方', 'Terra', '  Boston ', 'Texcoco, México',\n",
       "       'cash.me/$KeithBStill ', 'Babe USA', 'Entre Ríos, Argentina',\n",
       "       'Hull, MA', 'Encouraging survivors to speak', 'Argentina, Córdoba',\n",
       "       'New England', 'Burlington, VT',\n",
       "       'Livonia, MI, most likely in a gym/field/rink somewhere',\n",
       "       'around the neighborhood', 'andy-small.com/irtmforums',\n",
       "       'petawawa, ontario', 'Essex, UK', 'Boulder, CO', 'Fenway Park',\n",
       "       'Framingham, MA', 'Caracas-Venezuela', 'Framingham MA',\n",
       "       'Weymouth, MA', 'MIT, Cambridge, MA, USA', '언젠가 바다가 보이는 방에서',\n",
       "       'Bahston•Not really ¯\\\\_(ツ)_/¯', 'Malden, MA',\n",
       "       'somehwere being a fatass', 'Boston College', 'arizona',\n",
       "       'MurdaMa$$ 96 #BE4$TCOAST 978', 'Colombia', 'The Land, NC',\n",
       "       'Florida', 'Boston/Brockton', 'Columbia Falls, Montana',\n",
       "       'Down South via Up North', 'NYC, Newtown, &theWhoscow. ',\n",
       "       'California   =', 'mhk', 'Fairfax, VA', 'Atlanta, GA',\n",
       "       'Boston, MA & Jamaica ', 'Home ', 'Dedham, MA', 'Newton',\n",
       "       'Peabody, MA', '22 Union Square, Somerville', 'Reading, MA',\n",
       "       'Revere Ma', 'Austin Tx', 'Brighton, MA', 'Rhode Island, USA',\n",
       "       'Home', 'UW Sharkside ', 'Massachusetts', 'Fort Worth, TX', 'CT',\n",
       "       'Suburbiaville, Ontario', 'Brockton,Ma', 'Stittsvegas, ON',\n",
       "       'Turn On Notifcations', 'PAISLEY PARK/THE FROZEN TUNDRA',\n",
       "       'The block', 'Boston,MA.', 'Hyrule', '横浜', 'Revere, MA',\n",
       "       'North Bergen, NJ', 'Tatooine', 'Canton MA', 'Boston. Taunton.',\n",
       "       'Saugus, MA', 'Acton, MA', 'New Haven, CT',\n",
       "       'Sec Q Row 3 or Sec TT row 3', 'Malden, Massachusetts',\n",
       "       'In an art house somewhere', 'Long Island, New York',\n",
       "       'Phoenix, AZ/ Tempe, AZ', 'Rumbling toward truth.', 'トーマ@条約',\n",
       "       'Millis, MA  ', 'Argentina', 'Chicago, IL ✈️ Albany, NY',\n",
       "       'Boston, MA & Drakes Island, ME', 'Rockport, MA', 'georgia ',\n",
       "       'RCTID', 'The new Twilight Zone=USA', 'Maine', 'gjobateh@gmail.com',\n",
       "       'World', 'Brockton, MA', 'Woodbridge', 'kcmo',\n",
       "       'Coastal Massachusetts', 'Trailwood, Tx', 'Cambridge MA', 'クレヨン王国',\n",
       "       'Walt Disney World', 'Framingham State University',\n",
       "       'Dorchester, Mass', 'Here and Now', 'Boston University ',\n",
       "       'En la isla mas bonita ', 'outside boston', 'Hyderabad, India',\n",
       "       'Los Angeles, CA', 'South Boston', 'BOS', 'Your screen',\n",
       "       'Minnesota', 'New Hampshire, USA', 'AraCity', '#STL ',\n",
       "       'Nashville, TN', 'Brasil', 'here', 'Trash',\n",
       "       'WF, TX | Stillwater, OK ', 'てぃんぽい村', 'Tewksbury, MA', 'Albany, NY',\n",
       "       'Seattle/Boston', 'Lawrence MA', 'St. Paul, MN',\n",
       "       'WestSide, Boston 32Ave', 'Merrick, NY', 'KC',\n",
       "       'Commack//Binghamton ', 'Suffolk University'], dtype=object)"
      ]
     },
     "execution_count": 7,
     "metadata": {},
     "output_type": "execute_result"
    }
   ],
   "source": [
    "#Grab all unique locations\n",
    "df_tweets['location'].unique()"
   ]
  },
  {
   "cell_type": "code",
   "execution_count": 8,
   "metadata": {
    "collapsed": false
   },
   "outputs": [
    {
     "data": {
      "text/plain": [
       "339"
      ]
     },
     "execution_count": 8,
     "metadata": {},
     "output_type": "execute_result"
    }
   ],
   "source": [
    "#Check number of unique locations...\n",
    "len(df_tweets['location'].unique())"
   ]
  },
  {
   "cell_type": "code",
   "execution_count": null,
   "metadata": {
    "collapsed": false
   },
   "outputs": [],
   "source": []
  },
  {
   "cell_type": "code",
   "execution_count": 18,
   "metadata": {
    "collapsed": false
   },
   "outputs": [],
   "source": [
    "#CLEAN THE MESSY DATA\n",
    "# List of variations of... \n",
    "acton = ['Acton, United States']\n",
    "boston = ['E. Bridgewater, MA/Boston, MA','Boston,MA','Fenway Park','Brighton, MA','Boston - MA','Boston, Massachusetts','Bean-Town/Salem World','Boston, MA','Boston', 'Boston ','boston  ','Boston, USA','Boston,MA.','Boston MA', 'Boston Massachusetts','boston','Boston, Ma.','Boston/Brockton','Boston Ma ','boston, ma','E. Bridgewater, MA/Boston, MA','Boston,Ma','Boston, MA & Jamaica ','Kolter Lab, Boston, MA','Boston. Taunton.','boston ','Boston University ','South Boston ➡️⬅️Gillette ','Boston College','Boston, Ma','100 Legends Way Boston, MA','Boston, MA & Drakes Island, ME','Boston Bruins','WestSide, Boston 32Ave','South Boston','  Boston ','Boston Ma','Suffolk University','Boston, Ma.  USA','Dorchester, Mass','BOS']\n",
    "\n",
    "cambridge = ['MIT, Cambridge, MA, USA','Harvard University','Harvard Law School','ハーバード大学','Cambridge MA','cambridge, ma']\n",
    "\n",
    "brockton = ['Brockton, MA ','Brockton,Ma']\n",
    "\n",
    "chicago = ['Chicago','Chicago, IL ✈️ Albany, NY']\n",
    "\n",
    "hull = ['Hull,MA']\n",
    "\n",
    "foxborough = ['Foxboro, MA','Foxborough Massachusetts ','Gillette Stadium']\n",
    "\n",
    "lawrence = ['Lawrence MA','lawrence, Ma']\n",
    "\n",
    "lowell = ['lowell','Lowell','Lowell ','Lowell, MA','Lowell, MA ✈️ Springhill, FL','Lowell, MA, USA']\n",
    "\n",
    "malden = ['Malden, Massachusetts']\n",
    "\n",
    "medford = ['Medford']\n",
    "\n",
    "nyc = ['Manhattan, NY','Nae York City ','NYC, Newtown, &theWhoscow. ','NYC // Hogwarts // Concerts']\n",
    "\n",
    "norwood = ['Norwood, Massachusetts']\n",
    "\n",
    "newton = ['Newton, MA 02461','Newton','Auburndale, MA']\n",
    "revere = ['Revere Ma']\n",
    "\n",
    "saugus = ['Saugus Ma']\n",
    "\n",
    "somerville = ['Somerville, Massachusetts','22 Union Square, Somerville']\n",
    "\n",
    "woburn = ['Woburn, MA by way of Attleboro']\n",
    "ca = ['California   =','California, USA']\n",
    "nj = ['New Jersey, USA','Nj','nj']\n",
    "ma = ['Massachusetts, USA']\n",
    "dc = ['Washington D.C.','San Diego / D.C. / Tokyo']\n",
    "me = ['Maine, New England,USA, Earth ']\n",
    "ct = [' suff | THE Sacred Heart U','Connecticut, USA']\n",
    "\n",
    "#create duplicate location field to keep original location data\n",
    "df_tweets['location2']=df_tweets['location']\n",
    "\n",
    "#clean duplicate location field\n",
    "df_tweets['location2']= df_tweets['location2'].replace(acton, 'Acton, MA')\n",
    "df_tweets['location2']= df_tweets['location2'].replace(boston, 'Boston, MA')\n",
    "df_tweets['location2']=df_tweets['location2'].replace(cambridge, 'Cambridge, MA')\n",
    "df_tweets['location2']=df_tweets['location2'].replace(brockton, 'Brockton, MA')\n",
    "df_tweets['location2']=df_tweets['location2'].replace(hull, 'Hull, MA')\n",
    "df_tweets['location2']=df_tweets['location2'].replace(foxborough, 'Foxborough, MA')\n",
    "df_tweets['location2']=df_tweets['location2'].replace(lawrence, 'Lawrence, MA')\n",
    "df_tweets['location2']=df_tweets['location2'].replace(lowell, 'Lowell, MA')\n",
    "df_tweets['location2']=df_tweets['location2'].replace(malden, 'Malden, MA')\n",
    "df_tweets['location2']=df_tweets['location2'].replace(medford, 'Medford, MA')\n",
    "df_tweets['location2']=df_tweets['location2'].replace(norwood, 'Norwood, MA')\n",
    "df_tweets['location2']=df_tweets['location2'].replace(revere, 'Revere, MA')\n",
    "df_tweets['location2']=df_tweets['location2'].replace(saugus, 'Saugus, MA')\n",
    "df_tweets['location2']=df_tweets['location2'].replace(newton, 'Newton, MA')\n",
    "df_tweets['location2']=df_tweets['location2'].replace(somerville, 'Somerville, MA')\n",
    "df_tweets['location2']=df_tweets['location2'].replace(woburn, 'Woburn, MA')\n",
    "df_tweets['location2']=df_tweets['location2'].replace(nyc, 'New York, NY')\n",
    "df_tweets['location2']=df_tweets['location2'].replace(chicago, 'Chicago, IL')\n",
    "df_tweets['location2']=df_tweets['location2'].replace(ca, 'California')\n",
    "df_tweets['location2']=df_tweets['location2'].replace(nj, 'New Jersey')\n",
    "df_tweets['location2']=df_tweets['location2'].replace(ma, 'Massachusetts')\n",
    "df_tweets['location2']=df_tweets['location2'].replace(dc, 'Washington, DC')\n",
    "df_tweets['location2']=df_tweets['location2'].replace(me, 'Maine')\n",
    "df_tweets['location2']=df_tweets['location2'].replace('', 'Not listed')\n",
    "df_tweets['location2']=df_tweets['location2'].replace(' ', 'Not listed')"
   ]
  },
  {
   "cell_type": "code",
   "execution_count": 19,
   "metadata": {
    "collapsed": false
   },
   "outputs": [
    {
     "data": {
      "text/plain": [
       "255"
      ]
     },
     "execution_count": 19,
     "metadata": {},
     "output_type": "execute_result"
    }
   ],
   "source": [
    "#Check number of locations after cleaning...\n",
    "len(df_tweets['location2'].unique())"
   ]
  },
  {
   "cell_type": "code",
   "execution_count": 17,
   "metadata": {
    "collapsed": false
   },
   "outputs": [
    {
     "data": {
      "text/html": [
       "<div>\n",
       "<table border=\"1\" class=\"dataframe\">\n",
       "  <thead>\n",
       "    <tr style=\"text-align: right;\">\n",
       "      <th></th>\n",
       "      <th>tweet_id</th>\n",
       "      <th>lat</th>\n",
       "      <th>lon</th>\n",
       "      <th>content</th>\n",
       "      <th>location</th>\n",
       "      <th>user</th>\n",
       "      <th>raw_source</th>\n",
       "      <th>data_point</th>\n",
       "      <th>time</th>\n",
       "      <th>location2</th>\n",
       "    </tr>\n",
       "  </thead>\n",
       "  <tbody>\n",
       "    <tr>\n",
       "      <th>838947197521702913</th>\n",
       "      <td>838947197521702913</td>\n",
       "      <td>None</td>\n",
       "      <td>None</td>\n",
       "      <td>RT @BostonGlobe: Monday was the seventh straig...</td>\n",
       "      <td></td>\n",
       "      <td>3431690632</td>\n",
       "      <td>{'id_str': '838947197521702913', 'entities': {...</td>\n",
       "      <td>none</td>\n",
       "      <td>Tue Mar 07 02:59:33 +0000 2017</td>\n",
       "      <td></td>\n",
       "    </tr>\n",
       "    <tr>\n",
       "      <th>838949989384617984</th>\n",
       "      <td>838949989384617984</td>\n",
       "      <td>None</td>\n",
       "      <td>None</td>\n",
       "      <td>RANK ‘EM: Bruins fall to Ottawa https://t.co/N...</td>\n",
       "      <td>Boston</td>\n",
       "      <td>27371493</td>\n",
       "      <td>{'id_str': '838949989384617984', 'entities': {...</td>\n",
       "      <td>none</td>\n",
       "      <td>Tue Mar 07 03:10:39 +0000 2017</td>\n",
       "      <td>Boston</td>\n",
       "    </tr>\n",
       "    <tr>\n",
       "      <th>838947194627579904</th>\n",
       "      <td>838947194627579904</td>\n",
       "      <td>None</td>\n",
       "      <td>None</td>\n",
       "      <td>Chara has been terrible tonight. Iced it like ...</td>\n",
       "      <td>Boston</td>\n",
       "      <td>2515811550</td>\n",
       "      <td>{'id_str': '838947194627579904', 'entities': {...</td>\n",
       "      <td>none</td>\n",
       "      <td>Tue Mar 07 02:59:32 +0000 2017</td>\n",
       "      <td>Boston</td>\n",
       "    </tr>\n",
       "    <tr>\n",
       "      <th>838950988702588928</th>\n",
       "      <td>838950988702588928</td>\n",
       "      <td>None</td>\n",
       "      <td>None</td>\n",
       "      <td>RT @udaqueness: https://t.co/ixjwhhEpbc 고양이의 입...</td>\n",
       "      <td></td>\n",
       "      <td>4835076031</td>\n",
       "      <td>{'id_str': '838950988702588928', 'entities': {...</td>\n",
       "      <td>none</td>\n",
       "      <td>Tue Mar 07 03:14:37 +0000 2017</td>\n",
       "      <td></td>\n",
       "    </tr>\n",
       "    <tr>\n",
       "      <th>838944152456855552</th>\n",
       "      <td>838944152456855552</td>\n",
       "      <td>None</td>\n",
       "      <td>None</td>\n",
       "      <td>My birthday is Nov 10....#conspiracy https://t...</td>\n",
       "      <td>Boston</td>\n",
       "      <td>87776521</td>\n",
       "      <td>{'id_str': '838944152456855552', 'entities': {...</td>\n",
       "      <td>none</td>\n",
       "      <td>Tue Mar 07 02:47:27 +0000 2017</td>\n",
       "      <td>Boston</td>\n",
       "    </tr>\n",
       "  </tbody>\n",
       "</table>\n",
       "</div>"
      ],
      "text/plain": [
       "                              tweet_id   lat   lon  \\\n",
       "838947197521702913  838947197521702913  None  None   \n",
       "838949989384617984  838949989384617984  None  None   \n",
       "838947194627579904  838947194627579904  None  None   \n",
       "838950988702588928  838950988702588928  None  None   \n",
       "838944152456855552  838944152456855552  None  None   \n",
       "\n",
       "                                                              content  \\\n",
       "838947197521702913  RT @BostonGlobe: Monday was the seventh straig...   \n",
       "838949989384617984  RANK ‘EM: Bruins fall to Ottawa https://t.co/N...   \n",
       "838947194627579904  Chara has been terrible tonight. Iced it like ...   \n",
       "838950988702588928  RT @udaqueness: https://t.co/ixjwhhEpbc 고양이의 입...   \n",
       "838944152456855552  My birthday is Nov 10....#conspiracy https://t...   \n",
       "\n",
       "                   location        user  \\\n",
       "838947197521702913           3431690632   \n",
       "838949989384617984   Boston    27371493   \n",
       "838947194627579904   Boston  2515811550   \n",
       "838950988702588928           4835076031   \n",
       "838944152456855552   Boston    87776521   \n",
       "\n",
       "                                                           raw_source  \\\n",
       "838947197521702913  {'id_str': '838947197521702913', 'entities': {...   \n",
       "838949989384617984  {'id_str': '838949989384617984', 'entities': {...   \n",
       "838947194627579904  {'id_str': '838947194627579904', 'entities': {...   \n",
       "838950988702588928  {'id_str': '838950988702588928', 'entities': {...   \n",
       "838944152456855552  {'id_str': '838944152456855552', 'entities': {...   \n",
       "\n",
       "                   data_point                            time location2  \n",
       "838947197521702913       none  Tue Mar 07 02:59:33 +0000 2017            \n",
       "838949989384617984       none  Tue Mar 07 03:10:39 +0000 2017    Boston  \n",
       "838947194627579904       none  Tue Mar 07 02:59:32 +0000 2017    Boston  \n",
       "838950988702588928       none  Tue Mar 07 03:14:37 +0000 2017            \n",
       "838944152456855552       none  Tue Mar 07 02:47:27 +0000 2017    Boston  "
      ]
     },
     "execution_count": 17,
     "metadata": {},
     "output_type": "execute_result"
    }
   ],
   "source": []
  },
  {
   "cell_type": "code",
   "execution_count": 20,
   "metadata": {
    "collapsed": false
   },
   "outputs": [
    {
     "data": {
      "text/html": [
       "<div>\n",
       "<table border=\"1\" class=\"dataframe\">\n",
       "  <thead>\n",
       "    <tr style=\"text-align: right;\">\n",
       "      <th></th>\n",
       "      <th>Count</th>\n",
       "    </tr>\n",
       "    <tr>\n",
       "      <th>Location2</th>\n",
       "      <th></th>\n",
       "    </tr>\n",
       "  </thead>\n",
       "  <tbody>\n",
       "    <tr>\n",
       "      <th>Boston, MA</th>\n",
       "      <td>329</td>\n",
       "    </tr>\n",
       "    <tr>\n",
       "      <th>Not listed</th>\n",
       "      <td>137</td>\n",
       "    </tr>\n",
       "    <tr>\n",
       "      <th>Cambridge, MA</th>\n",
       "      <td>35</td>\n",
       "    </tr>\n",
       "    <tr>\n",
       "      <th>Lowell, MA</th>\n",
       "      <td>22</td>\n",
       "    </tr>\n",
       "    <tr>\n",
       "      <th>Somerville, MA</th>\n",
       "      <td>9</td>\n",
       "    </tr>\n",
       "    <tr>\n",
       "      <th>Washington, DC</th>\n",
       "      <td>9</td>\n",
       "    </tr>\n",
       "    <tr>\n",
       "      <th>Salem, MA</th>\n",
       "      <td>8</td>\n",
       "    </tr>\n",
       "    <tr>\n",
       "      <th>New York, NY</th>\n",
       "      <td>8</td>\n",
       "    </tr>\n",
       "    <tr>\n",
       "      <th>Brockton, MA</th>\n",
       "      <td>7</td>\n",
       "    </tr>\n",
       "    <tr>\n",
       "      <th>Newton, MA</th>\n",
       "      <td>7</td>\n",
       "    </tr>\n",
       "    <tr>\n",
       "      <th>Waltham, MA</th>\n",
       "      <td>6</td>\n",
       "    </tr>\n",
       "    <tr>\n",
       "      <th>California</th>\n",
       "      <td>6</td>\n",
       "    </tr>\n",
       "    <tr>\n",
       "      <th>Foxborough, MA</th>\n",
       "      <td>5</td>\n",
       "    </tr>\n",
       "    <tr>\n",
       "      <th>Chelsea, MA</th>\n",
       "      <td>5</td>\n",
       "    </tr>\n",
       "    <tr>\n",
       "      <th>Brookline, MA</th>\n",
       "      <td>5</td>\n",
       "    </tr>\n",
       "    <tr>\n",
       "      <th>Quincy, MA</th>\n",
       "      <td>5</td>\n",
       "    </tr>\n",
       "    <tr>\n",
       "      <th>New Jersey</th>\n",
       "      <td>4</td>\n",
       "    </tr>\n",
       "    <tr>\n",
       "      <th>Massachusetts</th>\n",
       "      <td>4</td>\n",
       "    </tr>\n",
       "    <tr>\n",
       "      <th>Woburn, MA</th>\n",
       "      <td>4</td>\n",
       "    </tr>\n",
       "    <tr>\n",
       "      <th>Chicago, IL</th>\n",
       "      <td>4</td>\n",
       "    </tr>\n",
       "    <tr>\n",
       "      <th>United States</th>\n",
       "      <td>4</td>\n",
       "    </tr>\n",
       "    <tr>\n",
       "      <th>Lawrence, MA</th>\n",
       "      <td>4</td>\n",
       "    </tr>\n",
       "    <tr>\n",
       "      <th>Saugus, MA</th>\n",
       "      <td>4</td>\n",
       "    </tr>\n",
       "    <tr>\n",
       "      <th>Malden, MA</th>\n",
       "      <td>3</td>\n",
       "    </tr>\n",
       "    <tr>\n",
       "      <th>Revere, MA</th>\n",
       "      <td>3</td>\n",
       "    </tr>\n",
       "    <tr>\n",
       "      <th>Lynn, MA</th>\n",
       "      <td>3</td>\n",
       "    </tr>\n",
       "    <tr>\n",
       "      <th>Dedham, MA</th>\n",
       "      <td>3</td>\n",
       "    </tr>\n",
       "    <tr>\n",
       "      <th>East Bridgewater, MA</th>\n",
       "      <td>3</td>\n",
       "    </tr>\n",
       "    <tr>\n",
       "      <th>Bogotá, Colombia</th>\n",
       "      <td>3</td>\n",
       "    </tr>\n",
       "    <tr>\n",
       "      <th>Pittsburgh, PA</th>\n",
       "      <td>2</td>\n",
       "    </tr>\n",
       "    <tr>\n",
       "      <th>...</th>\n",
       "      <td>...</td>\n",
       "    </tr>\n",
       "    <tr>\n",
       "      <th>Pembroke, MA</th>\n",
       "      <td>1</td>\n",
       "    </tr>\n",
       "    <tr>\n",
       "      <th>Pfalz!</th>\n",
       "      <td>1</td>\n",
       "    </tr>\n",
       "    <tr>\n",
       "      <th>Minnesota</th>\n",
       "      <td>1</td>\n",
       "    </tr>\n",
       "    <tr>\n",
       "      <th>Millis, MA</th>\n",
       "      <td>1</td>\n",
       "    </tr>\n",
       "    <tr>\n",
       "      <th>Hermosillo, Sonora</th>\n",
       "      <td>1</td>\n",
       "    </tr>\n",
       "    <tr>\n",
       "      <th>Merrick, NY</th>\n",
       "      <td>1</td>\n",
       "    </tr>\n",
       "    <tr>\n",
       "      <th>Hiding in the bathroom</th>\n",
       "      <td>1</td>\n",
       "    </tr>\n",
       "    <tr>\n",
       "      <th>Ho Chi Minh, Vietnam</th>\n",
       "      <td>1</td>\n",
       "    </tr>\n",
       "    <tr>\n",
       "      <th>Holbrook, MA</th>\n",
       "      <td>1</td>\n",
       "    </tr>\n",
       "    <tr>\n",
       "      <th>Home</th>\n",
       "      <td>1</td>\n",
       "    </tr>\n",
       "    <tr>\n",
       "      <th>Home</th>\n",
       "      <td>1</td>\n",
       "    </tr>\n",
       "    <tr>\n",
       "      <th>Houston, TX</th>\n",
       "      <td>1</td>\n",
       "    </tr>\n",
       "    <tr>\n",
       "      <th>Hyderabad, India</th>\n",
       "      <td>1</td>\n",
       "    </tr>\n",
       "    <tr>\n",
       "      <th>Hyrule</th>\n",
       "      <td>1</td>\n",
       "    </tr>\n",
       "    <tr>\n",
       "      <th>I Block Trolls &amp; Report Porn!</th>\n",
       "      <td>1</td>\n",
       "    </tr>\n",
       "    <tr>\n",
       "      <th>In an art house somewhere</th>\n",
       "      <td>1</td>\n",
       "    </tr>\n",
       "    <tr>\n",
       "      <th>Iowa City, IA</th>\n",
       "      <td>1</td>\n",
       "    </tr>\n",
       "    <tr>\n",
       "      <th>JMU</th>\n",
       "      <td>1</td>\n",
       "    </tr>\n",
       "    <tr>\n",
       "      <th>KC</th>\n",
       "      <td>1</td>\n",
       "    </tr>\n",
       "    <tr>\n",
       "      <th>Kenya</th>\n",
       "      <td>1</td>\n",
       "    </tr>\n",
       "    <tr>\n",
       "      <th>Kota Makassar, SulSel</th>\n",
       "      <td>1</td>\n",
       "    </tr>\n",
       "    <tr>\n",
       "      <th>Littleton, Massachusetts</th>\n",
       "      <td>1</td>\n",
       "    </tr>\n",
       "    <tr>\n",
       "      <th>Livonia, MI, most likely in a gym/field/rink somewhere</th>\n",
       "      <td>1</td>\n",
       "    </tr>\n",
       "    <tr>\n",
       "      <th>Long Island, New York</th>\n",
       "      <td>1</td>\n",
       "    </tr>\n",
       "    <tr>\n",
       "      <th>Lothlorien</th>\n",
       "      <td>1</td>\n",
       "    </tr>\n",
       "    <tr>\n",
       "      <th>Louisiana, USA</th>\n",
       "      <td>1</td>\n",
       "    </tr>\n",
       "    <tr>\n",
       "      <th>Mansfield, MA</th>\n",
       "      <td>1</td>\n",
       "    </tr>\n",
       "    <tr>\n",
       "      <th>Marlborough, MA</th>\n",
       "      <td>1</td>\n",
       "    </tr>\n",
       "    <tr>\n",
       "      <th>Melrose, MA</th>\n",
       "      <td>1</td>\n",
       "    </tr>\n",
       "    <tr>\n",
       "      <th>헤더_어화동동님 / 인장_굷님</th>\n",
       "      <td>1</td>\n",
       "    </tr>\n",
       "  </tbody>\n",
       "</table>\n",
       "<p>255 rows × 1 columns</p>\n",
       "</div>"
      ],
      "text/plain": [
       "                                                    Count\n",
       "Location2                                                \n",
       "Boston, MA                                            329\n",
       "Not listed                                            137\n",
       "Cambridge, MA                                          35\n",
       "Lowell, MA                                             22\n",
       "Somerville, MA                                          9\n",
       "Washington, DC                                          9\n",
       "Salem, MA                                               8\n",
       "New York, NY                                            8\n",
       "Brockton, MA                                            7\n",
       "Newton, MA                                              7\n",
       "Waltham, MA                                             6\n",
       "California                                              6\n",
       "Foxborough, MA                                          5\n",
       "Chelsea, MA                                             5\n",
       "Brookline, MA                                           5\n",
       "Quincy, MA                                              5\n",
       "New Jersey                                              4\n",
       "Massachusetts                                           4\n",
       "Woburn, MA                                              4\n",
       "Chicago, IL                                             4\n",
       "United States                                           4\n",
       "Lawrence, MA                                            4\n",
       "Saugus, MA                                              4\n",
       "Malden, MA                                              3\n",
       "Revere, MA                                              3\n",
       "Lynn, MA                                                3\n",
       "Dedham, MA                                              3\n",
       "East Bridgewater, MA                                    3\n",
       "Bogotá, Colombia                                        3\n",
       "Pittsburgh, PA                                          2\n",
       "...                                                   ...\n",
       "Pembroke, MA                                            1\n",
       "Pfalz!                                                  1\n",
       "Minnesota                                               1\n",
       "Millis, MA                                              1\n",
       "Hermosillo, Sonora                                      1\n",
       "Merrick, NY                                             1\n",
       "Hiding in the bathroom                                  1\n",
       "Ho Chi Minh, Vietnam                                    1\n",
       "Holbrook, MA                                            1\n",
       "Home                                                    1\n",
       "Home                                                    1\n",
       "Houston, TX                                             1\n",
       "Hyderabad, India                                        1\n",
       "Hyrule                                                  1\n",
       "I Block Trolls & Report Porn!                           1\n",
       "In an art house somewhere                               1\n",
       "Iowa City, IA                                           1\n",
       "JMU                                                     1\n",
       "KC                                                      1\n",
       "Kenya                                                   1\n",
       "Kota Makassar, SulSel                                   1\n",
       "Littleton, Massachusetts                                1\n",
       "Livonia, MI, most likely in a gym/field/rink so...      1\n",
       "Long Island, New York                                   1\n",
       "Lothlorien                                              1\n",
       "Louisiana, USA                                          1\n",
       "Mansfield, MA                                           1\n",
       "Marlborough, MA                                         1\n",
       "Melrose, MA                                             1\n",
       "헤더_어화동동님 / 인장_굷님                                        1\n",
       "\n",
       "[255 rows x 1 columns]"
      ]
     },
     "execution_count": 20,
     "metadata": {},
     "output_type": "execute_result"
    }
   ],
   "source": [
    "grouped_tweets = df_tweets.groupby('location2')\n",
    "count_tweets = grouped_tweets['location2'].count()\n",
    "df_count_tweets = count_tweets.to_frame()\n",
    "df_count_tweets.columns = ['Count']\n",
    "df_count_tweets.index.names = ['Location2']\n",
    "df_count_tweets.sort_values(['Count'],ascending=False)"
   ]
  },
  {
   "cell_type": "code",
   "execution_count": 21,
   "metadata": {
    "collapsed": false
   },
   "outputs": [],
   "source": [
    "#If a location only shows up once or twice, collapse into new 'Other' category \n",
    "\n",
    "df_count_cleaned = df_count_tweets.loc[df_count_tweets['Count']>2].copy()\n",
    "df_count_other =  df_count_tweets.loc[df_count_tweets['Count']<=2]\n",
    "\n",
    "df_count_cleaned.loc['Other']= df_count_other['Count'].sum()\n",
    "\n",
    "# df_count_cleaned.sort_values(['Count'],ascending=False)"
   ]
  },
  {
   "cell_type": "code",
   "execution_count": null,
   "metadata": {
    "collapsed": true
   },
   "outputs": [],
   "source": []
  },
  {
   "cell_type": "code",
   "execution_count": 22,
   "metadata": {
    "collapsed": false
   },
   "outputs": [
    {
     "data": {
      "text/plain": [
       "([<matplotlib.patches.Wedge at 0x1174d1908>,\n",
       "  <matplotlib.patches.Wedge at 0x1174d9588>,\n",
       "  <matplotlib.patches.Wedge at 0x11a1bc208>,\n",
       "  <matplotlib.patches.Wedge at 0x11a1bce48>,\n",
       "  <matplotlib.patches.Wedge at 0x11a1c2ac8>,\n",
       "  <matplotlib.patches.Wedge at 0x117449550>,\n",
       "  <matplotlib.patches.Wedge at 0x1174549e8>,\n",
       "  <matplotlib.patches.Wedge at 0x1173d1748>,\n",
       "  <matplotlib.patches.Wedge at 0x11a1c7f98>,\n",
       "  <matplotlib.patches.Wedge at 0x11a1d0c18>,\n",
       "  <matplotlib.patches.Wedge at 0x11a1d5898>,\n",
       "  <matplotlib.patches.Wedge at 0x11a1db518>,\n",
       "  <matplotlib.patches.Wedge at 0x11a1e0198>,\n",
       "  <matplotlib.patches.Wedge at 0x11a1e0dd8>,\n",
       "  <matplotlib.patches.Wedge at 0x11a1e7a58>,\n",
       "  <matplotlib.patches.Wedge at 0x11a1ef6d8>,\n",
       "  <matplotlib.patches.Wedge at 0x11a1f3358>,\n",
       "  <matplotlib.patches.Wedge at 0x11a1f3f98>,\n",
       "  <matplotlib.patches.Wedge at 0x11a1fac18>,\n",
       "  <matplotlib.patches.Wedge at 0x11a1ff898>,\n",
       "  <matplotlib.patches.Wedge at 0x11a206518>,\n",
       "  <matplotlib.patches.Wedge at 0x11a20b198>,\n",
       "  <matplotlib.patches.Wedge at 0x11a20bdd8>,\n",
       "  <matplotlib.patches.Wedge at 0x11a210a58>,\n",
       "  <matplotlib.patches.Wedge at 0x11a2186d8>,\n",
       "  <matplotlib.patches.Wedge at 0x11a21e358>,\n",
       "  <matplotlib.patches.Wedge at 0x11a21ef98>,\n",
       "  <matplotlib.patches.Wedge at 0x11a224c18>,\n",
       "  <matplotlib.patches.Wedge at 0x11a229898>,\n",
       "  <matplotlib.patches.Wedge at 0x11a22f518>],\n",
       " [<matplotlib.text.Text at 0x1174d9128>,\n",
       "  <matplotlib.text.Text at 0x1174d9d68>,\n",
       "  <matplotlib.text.Text at 0x11a1bc9e8>,\n",
       "  <matplotlib.text.Text at 0x11a1c2668>,\n",
       "  <matplotlib.text.Text at 0x11a1c72e8>,\n",
       "  <matplotlib.text.Text at 0x117455160>,\n",
       "  <matplotlib.text.Text at 0x117459978>,\n",
       "  <matplotlib.text.Text at 0x11a1c7b38>,\n",
       "  <matplotlib.text.Text at 0x11a1d07b8>,\n",
       "  <matplotlib.text.Text at 0x11a1d5438>,\n",
       "  <matplotlib.text.Text at 0x11a1d5f98>,\n",
       "  <matplotlib.text.Text at 0x11a1dbcf8>,\n",
       "  <matplotlib.text.Text at 0x11a1e0978>,\n",
       "  <matplotlib.text.Text at 0x11a1e75f8>,\n",
       "  <matplotlib.text.Text at 0x11a1ef278>,\n",
       "  <matplotlib.text.Text at 0x11a1efeb8>,\n",
       "  <matplotlib.text.Text at 0x11a1f3b38>,\n",
       "  <matplotlib.text.Text at 0x11a1fa7b8>,\n",
       "  <matplotlib.text.Text at 0x11a1ff438>,\n",
       "  <matplotlib.text.Text at 0x11a1fff98>,\n",
       "  <matplotlib.text.Text at 0x11a206cf8>,\n",
       "  <matplotlib.text.Text at 0x11a20b978>,\n",
       "  <matplotlib.text.Text at 0x11a2105f8>,\n",
       "  <matplotlib.text.Text at 0x11a218278>,\n",
       "  <matplotlib.text.Text at 0x11a218eb8>,\n",
       "  <matplotlib.text.Text at 0x11a21eb38>,\n",
       "  <matplotlib.text.Text at 0x11a2247b8>,\n",
       "  <matplotlib.text.Text at 0x11a229438>,\n",
       "  <matplotlib.text.Text at 0x11a229f98>,\n",
       "  <matplotlib.text.Text at 0x11a22fcf8>])"
      ]
     },
     "execution_count": 22,
     "metadata": {},
     "output_type": "execute_result"
    },
    {
     "data": {
      "image/png": "[encoded data removed]",
      "text/plain": [
       "<matplotlib.figure.Figure at 0x11742e9b0>"
      ]
     },
     "metadata": {},
     "output_type": "display_data"
    }
   ],
   "source": [
    "#Create a pie chart of twitter users stated location\n",
    "# Create a list of colors (from iWantHue)\n",
    "colors = [\"#4c5ba5\",\n",
    "\"#9bb240\",\n",
    "\"#5d3f9f\",\n",
    "\"#5ca857\",\n",
    "\"#717be1\",\n",
    "\"#cf9839\",\n",
    "\"#6d2b77\",\n",
    "\"#45c097\",\n",
    "\"#c57cd3\",\n",
    "\"#8f863b\",\n",
    "\"#669ce3\",\n",
    "\"#bc5f30\",\n",
    "\"#ce66a6\",\n",
    "\"#ba4c46\",\n",
    "\"#b24168\"]\n",
    "\n",
    "# Create a pie chart\n",
    "\n",
    "fig = plt.figure(figsize=[10, 10])\n",
    "ax = fig.add_subplot(111)\n",
    "\n",
    "cleanpie = ax.pie(df_count_cleaned['Count'], labels=df_count_cleaned.index.get_values(), shadow=False, colors=colors, labeldistance=1.05)\n",
    "\n",
    "for slice in cleanpie[0]:\n",
    "    slice.set_edgecolor('white')\n",
    "    \n",
    "ax.set_title ('Cleaned Twitter User Location Data')\n",
    "\n",
    "cleanpie"
   ]
  },
  {
   "cell_type": "code",
   "execution_count": 23,
   "metadata": {
    "collapsed": false
   },
   "outputs": [
    {
     "data": {
      "text/html": [
       "<div>\n",
       "<table border=\"1\" class=\"dataframe\">\n",
       "  <thead>\n",
       "    <tr style=\"text-align: right;\">\n",
       "      <th></th>\n",
       "      <th>tweet_id</th>\n",
       "      <th>lat</th>\n",
       "      <th>lon</th>\n",
       "      <th>content</th>\n",
       "      <th>location</th>\n",
       "      <th>user</th>\n",
       "      <th>raw_source</th>\n",
       "      <th>data_point</th>\n",
       "      <th>time</th>\n",
       "      <th>location2</th>\n",
       "    </tr>\n",
       "  </thead>\n",
       "  <tbody>\n",
       "    <tr>\n",
       "      <th>838948458631319552</th>\n",
       "      <td>838948458631319552</td>\n",
       "      <td>-71.2356</td>\n",
       "      <td>42.3765</td>\n",
       "      <td>Interested in a #job in #Waltham, MA? This cou...</td>\n",
       "      <td>Boulder, CO</td>\n",
       "      <td>3562102752</td>\n",
       "      <td>{'id_str': '838948458631319552', 'entities': {...</td>\n",
       "      <td>none</td>\n",
       "      <td>Tue Mar 07 03:04:34 +0000 2017</td>\n",
       "      <td>Boulder, CO</td>\n",
       "    </tr>\n",
       "    <tr>\n",
       "      <th>838950726319636484</th>\n",
       "      <td>838950726319636484</td>\n",
       "      <td>-71.0611</td>\n",
       "      <td>42.2837</td>\n",
       "      <td>Opened report via iphone at 37 Carruth St, Dor...</td>\n",
       "      <td>Boston, MA</td>\n",
       "      <td>3413390356</td>\n",
       "      <td>{'id_str': '838950726319636484', 'entities': {...</td>\n",
       "      <td>none</td>\n",
       "      <td>Tue Mar 07 03:13:34 +0000 2017</td>\n",
       "      <td>Boston, MA</td>\n",
       "    </tr>\n",
       "  </tbody>\n",
       "</table>\n",
       "</div>"
      ],
      "text/plain": [
       "                              tweet_id      lat      lon  \\\n",
       "838948458631319552  838948458631319552 -71.2356  42.3765   \n",
       "838950726319636484  838950726319636484 -71.0611  42.2837   \n",
       "\n",
       "                                                              content  \\\n",
       "838948458631319552  Interested in a #job in #Waltham, MA? This cou...   \n",
       "838950726319636484  Opened report via iphone at 37 Carruth St, Dor...   \n",
       "\n",
       "                       location        user  \\\n",
       "838948458631319552  Boulder, CO  3562102752   \n",
       "838950726319636484   Boston, MA  3413390356   \n",
       "\n",
       "                                                           raw_source  \\\n",
       "838948458631319552  {'id_str': '838948458631319552', 'entities': {...   \n",
       "838950726319636484  {'id_str': '838950726319636484', 'entities': {...   \n",
       "\n",
       "                   data_point                            time    location2  \n",
       "838948458631319552       none  Tue Mar 07 03:04:34 +0000 2017  Boulder, CO  \n",
       "838950726319636484       none  Tue Mar 07 03:13:34 +0000 2017   Boston, MA  "
      ]
     },
     "execution_count": 23,
     "metadata": {},
     "output_type": "execute_result"
    }
   ],
   "source": [
    "# Create a filter from df_tweets filtering only those that have values for lat and lon\n",
    "df_tweets_with_location = df_tweets[df_tweets.lon.notnull() & df_tweets.lat.notnull()]\n",
    "df_tweets_with_location"
   ]
  },
  {
   "cell_type": "code",
   "execution_count": 24,
   "metadata": {
    "collapsed": false
   },
   "outputs": [
    {
     "data": {
      "image/png": "[encoded data removed]",
      "text/plain": [
       "<matplotlib.figure.Figure at 0x11a270470>"
      ]
     },
     "metadata": {},
     "output_type": "display_data"
    }
   ],
   "source": [
    "#Create scatterplot of lat / long of tweets\n",
    "plt.scatter(df_tweets_with_location['lon'],df_tweets_with_location['lat'], s=25)\n",
    "plt.xlabel('longitude')\n",
    "plt.ylabel('latitude')\n",
    "plt.suptitle('Locations of tweets')\n",
    "plt.show()\n"
   ]
  },
  {
   "cell_type": "code",
   "execution_count": 26,
   "metadata": {
    "collapsed": true
   },
   "outputs": [],
   "source": [
    "#Export to CSV\n",
    "df_tweets.to_csv('twitter_data_blank2.csv',sep=',', encoding='utf-8')"
   ]
  },
  {
   "cell_type": "markdown",
   "metadata": {},
   "source": [
    "# Scrape more tweets!\n",
    "This time, I will scrape tweets about women with the intent to capture some of the conversations on the night before International Women's Day. "
   ]
  },
  {
   "cell_type": "code",
   "execution_count": null,
   "metadata": {
    "collapsed": true
   },
   "outputs": [],
   "source": [
    "#Scrape some more tweets!\n",
    "\n",
    "search_term='women' # SETS THE SEARCH TERM\n",
    "\n",
    "#modify the get_lots_of_tweets function to only scrape 15 minutes of tweets\n",
    "def get_lots_of_tweets( latlong ):\n",
    "    # Create a dictionary to parse the JSON\n",
    "    all_tweets = {}\n",
    "    \n",
    "    # Hit the API for total of 900 seconds, ie 15 minutes\n",
    "    total_time = 900\n",
    "    \n",
    "    # Everytime we hit the API we subtract time from the total\n",
    "    remaining_seconds = total_time\n",
    "    interval = 60\n",
    "    while remaining_seconds > 0: # loop and run the function while remaining seconds is greater than zero\n",
    "        added = 0\n",
    "        # Hit the Twitter API using our function\n",
    "        new_tweets = get_tweets_by_location(latlong) # we set latlong above!\n",
    "        # Parse the resulting JSON, and save the rest of the raw content\n",
    "        for tweet in new_tweets:\n",
    "            tid = tweet['id']\n",
    "            if tid not in all_tweets:\n",
    "                properties = {}\n",
    "                if tweet['coordinates'] != None:\n",
    "                    properties['lat'] = tweet['coordinates']['coordinates'][0]\n",
    "                    properties['lon'] = tweet['coordinates']['coordinates'][1]\n",
    "                else:\n",
    "                    properties['lat'] = None\n",
    "                    properties['lon'] = None\n",
    "                properties['location'] = tweet['user']['location'] #This will get us the location associated with the profile\n",
    "                properties['tweet_id'] = tid\n",
    "                properties['content'] = tweet['text']\n",
    "                properties['user'] = tweet['user']['id']\n",
    "                properties['raw_source'] = tweet\n",
    "                properties['data_point'] = 'none'\n",
    "                properties['time'] = tweet['created_at']\n",
    "                all_tweets[ tid ] = properties\n",
    "                added += 1\n",
    "        print(\"At %d seconds, added %d new tweets, for a total of %d\" % ( total_time - remaining_seconds, added, len( all_tweets )))\n",
    "        # We wait a few seconds and hit the API again\n",
    "        time.sleep(interval)\n",
    "        remaining_seconds -= interval\n",
    "    print(str(len(all_tweets)) + ' Tweets retrieved.')\n",
    "    # We return the final dictionary to work with in Python\n",
    "    return all_tweets\n",
    "\n",
    "run_all()\n"
   ]
  },
  {
   "cell_type": "code",
   "execution_count": 18,
   "metadata": {
    "collapsed": false
   },
   "outputs": [],
   "source": [
    "file_dir2 = \"data/women\" # moved json so it doesn't read-in tweets from previous scrape\n",
    "\n",
    "# Get get the JSON\n",
    "onlyfiles = [ f for f in listdir(file_dir2) if isfile(join(file_dir2,f)) and not f.startswith('.')]\n",
    "\n",
    "# create an new, empty dataframe with columns for each property\n",
    "df_tweets2 = pd.DataFrame(columns = ['tweet_id', 'lat', 'lon', 'content','location','user','raw_source','data_point','time'])\n",
    "\n",
    "# Loop through all the files\n",
    "for file in onlyfiles:\n",
    "    full_dir = join(file_dir2,file) \n",
    "    with open(full_dir) as json_data:\n",
    "        dict = json.load(json_data) # creates a Python dictionary of our json\n",
    "        if not isinstance(dict, list):\n",
    "            for key, val in dict.items():\n",
    "                df_tweets2.loc[key,val] = val\n",
    "                "
   ]
  },
  {
   "cell_type": "code",
   "execution_count": 19,
   "metadata": {
    "collapsed": false
   },
   "outputs": [
    {
     "data": {
      "text/html": [
       "<div>\n",
       "<table border=\"1\" class=\"dataframe\">\n",
       "  <thead>\n",
       "    <tr style=\"text-align: right;\">\n",
       "      <th></th>\n",
       "      <th>tweet_id</th>\n",
       "      <th>lat</th>\n",
       "      <th>lon</th>\n",
       "      <th>content</th>\n",
       "      <th>location</th>\n",
       "      <th>user</th>\n",
       "      <th>raw_source</th>\n",
       "      <th>data_point</th>\n",
       "      <th>time</th>\n",
       "    </tr>\n",
       "  </thead>\n",
       "  <tbody>\n",
       "  </tbody>\n",
       "</table>\n",
       "</div>"
      ],
      "text/plain": [
       "Empty DataFrame\n",
       "Columns: [tweet_id, lat, lon, content, location, user, raw_source, data_point, time]\n",
       "Index: []"
      ]
     },
     "execution_count": 19,
     "metadata": {},
     "output_type": "execute_result"
    }
   ],
   "source": [
    "#check for duplicates in user_id...\n",
    "df_tweets2[df_tweets2['tweet_id'].duplicated()]"
   ]
  },
  {
   "cell_type": "code",
   "execution_count": 26,
   "metadata": {
    "collapsed": false
   },
   "outputs": [
    {
     "data": {
      "text/plain": [
       "64"
      ]
     },
     "execution_count": 26,
     "metadata": {},
     "output_type": "execute_result"
    }
   ],
   "source": [
    "#check for variations in location... \n",
    "len(df_tweets2['location'].unique())"
   ]
  },
  {
   "cell_type": "code",
   "execution_count": 23,
   "metadata": {
    "collapsed": true
   },
   "outputs": [],
   "source": [
    "boston = ['South End, Boston','Boston,MA','UMass Boston','Brighton, MA','Boston - MA','Boston, Massachusetts','Bean-Town/Salem World','Boston, MA','Boston', 'Boston ','boston  ','Boston, USA','Boston,MA.','Boston MA','Dorchester MA', 'Boston Massachusetts','boston','Boston, Ma.','Boston/Brockton','Boston Ma ','boston, ma','E. Bridgewater, MA/Boston, MA','Boston,Ma','Boston, MA & Jamaica ','Kolter Lab, Boston, MA','Boston. Taunton.','boston ','Boston University ','South Boston ➡️⬅️Gillette ','Boston College','Boston, Ma','100 Legends Way Boston, MA','Boston, MA & Drakes Island, ME','Boston Bruins','WestSide, Boston 32Ave','South Boston','  Boston ','Boston Ma','Suffolk University','Boston, Ma.  USA','Dorchester, Mass','BOS']\n",
    "\n",
    "cambridge = ['Cambridge, Massachusetts','Harvard University','Harvard Law School','ハーバード大学','Cambridge MA','cambridge, ma']\n",
    "\n",
    "nyc = ['Manhattan, NY','New York, New York','New York City']\n",
    "\n",
    "\n",
    "df_tweets2['location2']=df_tweets2['location']\n",
    "df_tweets2['location2']=df_tweets2['location2'].replace(boston, 'Boston, MA')\n",
    "df_tweets2['location2']=df_tweets2['location2'].replace(cambridge, 'Cambridge, MA')\n",
    "df_tweets2['location2']=df_tweets2['location2'].replace(nyc, 'New York, NY')\n",
    "\n"
   ]
  },
  {
   "cell_type": "code",
   "execution_count": 27,
   "metadata": {
    "collapsed": false
   },
   "outputs": [
    {
     "data": {
      "text/plain": [
       "55"
      ]
     },
     "execution_count": 27,
     "metadata": {},
     "output_type": "execute_result"
    }
   ],
   "source": [
    "#check cleaned # of locations\n",
    "len(df_tweets2['location2'].unique())"
   ]
  },
  {
   "cell_type": "code",
   "execution_count": 25,
   "metadata": {
    "collapsed": true
   },
   "outputs": [],
   "source": [
    "#Export to csv\n",
    "df_tweets2.to_csv('twitter_data_women.csv', sep=',', encoding='utf-8')"
   ]
  },
  {
   "cell_type": "code",
   "execution_count": null,
   "metadata": {
    "collapsed": true
   },
   "outputs": [],
   "source": []
  }
 ],
 "metadata": {
  "kernelspec": {
   "display_name": "Python [Root]",
   "language": "python",
   "name": "Python [Root]"
  },
  "language_info": {
   "codemirror_mode": {
    "name": "ipython",
    "version": 3
   },
   "file_extension": ".py",
   "mimetype": "text/x-python",
   "name": "python",
   "nbconvert_exporter": "python",
   "pygments_lexer": "ipython3",
   "version": "3.5.2"
  }
 },
 "nbformat": 4,
 "nbformat_minor": 0
}
